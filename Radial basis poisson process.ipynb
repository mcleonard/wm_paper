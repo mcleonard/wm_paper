{
 "cells": [
  {
   "cell_type": "markdown",
   "metadata": {},
   "source": [
    "The idea is to use radial basis functions (RBF) to generate an intensity function for an inhomogeneous Poisson process. We can use a radial basis function, $\\phi(t, \\theta)$ with parameters $\\theta$, the intensity by including weights\n",
    "\n",
    "$$\\lambda(t) = \\sum_{m=1}^M w_m \\phi(t, \\theta_m)$$\n",
    "\n",
    "For simplicity, I'll choose a gaussian RBF,\n",
    "\n",
    "$$ \\phi(t, t_0, \\sigma) = \\frac{1}{\\sigma \\sqrt{2 \\pi}}\n",
    "                     \\exp\\left(-\\frac{(t - t_0)^2}{2\\sigma^2}\\right) $$\n",
    "\n",
    "The likelihood function for an inhomogeneous poisson process is \n",
    "\n",
    "$$ p(N | \\lambda(t)) = \\exp\\left(-\\int_0^T \\lambda(t)\\, dt\\right) \\prod_{i=1}^N \\lambda(t_i) $$\n",
    "\n",
    "where $t_i$ is the time of each of the N events. Since our intensity $\\lambda(t)$ is modeled as a sum of nomalized RBFs, the integral simply becomes \n",
    "\n",
    "$$ \\int_0^T \\lambda(t)\\, dt = \\sum_{m=1}^M w_m $$"
   ]
  },
  {
   "cell_type": "code",
   "execution_count": 1,
   "metadata": {
    "collapsed": false
   },
   "outputs": [],
   "source": [
    "%matplotlib inline\n",
    "%config InlineBackend.figure_format = 'retina'\n",
    "\n",
    "import numpy as np\n",
    "import scipy as sp\n",
    "from scipy import stats\n",
    "import matplotlib.pyplot as plt"
   ]
  },
  {
   "cell_type": "markdown",
   "metadata": {},
   "source": [
    "First I'll use the RBF model to generate some fake data."
   ]
  },
  {
   "cell_type": "code",
   "execution_count": 19,
   "metadata": {
    "collapsed": true
   },
   "outputs": [],
   "source": [
    "radial_f = lambda x, loc, sig: sp.stats.norm.pdf(x, loc=loc, scale=sig)\n",
    "def intensity(x, w, loc, sig, radial_func):\n",
    "    return np.sum([wi*radial_func(x, li, si) \n",
    "                   for wi, li, si in zip(w, loc, sig)], axis=0)"
   ]
  },
  {
   "cell_type": "code",
   "execution_count": 27,
   "metadata": {
    "collapsed": false
   },
   "outputs": [],
   "source": [
    "# Calculate intensity\n",
    "x = np.linspace(-1,1,num=100)\n",
    "weights = [3, 2, 5, 3, 2]\n",
    "locs = [-1, -0.5, 0, .5, 1]\n",
    "bandwidths = [0.2]*5\n",
    "lam = intensity(x, weights, locs, bandwidths, radial_f)"
   ]
  },
  {
   "cell_type": "code",
   "execution_count": 28,
   "metadata": {
    "collapsed": false
   },
   "outputs": [
    {
     "data": {
      "text/plain": [
       "<matplotlib.legend.Legend at 0x107637b10>"
      ]
     },
     "execution_count": 28,
     "metadata": {},
     "output_type": "execute_result"
    },
    {
     "data": {
      "image/png": "[encoded data removed]",
      "text/plain": [
       "<matplotlib.figure.Figure at 0x106d50910>"
      ]
     },
     "metadata": {
      "image/png": {
       "height": 255,
       "width": 372
      }
     },
     "output_type": "display_data"
    }
   ],
   "source": [
    "# Sample number of events\n",
    "N = sp.stats.poisson(np.sum(weights)).rvs()\n",
    "# Sample locations of N events\n",
    "dist = sp.stats.rv_discrete(values=(range(len(x)), lam/sum(lam)))\n",
    "events = dist.rvs(size=N)\n",
    "events.sort()\n",
    "\n",
    "plt.plot(x, lam, label=\"Intensity\")\n",
    "plt.scatter(x[events], np.zeros(N), color='k', marker='|', s=200, linewidths=1, label=\"Sampled events\")\n",
    "plt.legend()"
   ]
  },
  {
   "cell_type": "markdown",
   "metadata": {},
   "source": [
    "Now I want to build a model to infer $\\lambda(t)$ from data. To start out, I'm going to choose 5 RBFS, then have priors over the weights and the bandwidths.\n",
    "\n",
    "I get stuck at this part though. I'm not sure how to generate the intensity function by summing up the RBFs. I can compile a function using `theano.scan` as seen [here](http://deeplearning.net/software/theano/library/scan.html), but the compiled function accepts numeric arrays, not symbolic objects like the defined priors (`weights` and `bandwidths`). So far, I haven't figured out how to loop over `weights` and `bandwidths`, passing them to `radial_gaussian`, then sum the resulting RBFs."
   ]
  },
  {
   "cell_type": "code",
   "execution_count": 31,
   "metadata": {
    "collapsed": false
   },
   "outputs": [
    {
     "name": "stderr",
     "output_type": "stream",
     "text": [
      ":0: FutureWarning: IPython widgets are experimental and may change in the future.\n"
     ]
    }
   ],
   "source": [
    "import pymc3 as pm\n",
    "import theano\n",
    "import theano.tensor as T"
   ]
  },
  {
   "cell_type": "code",
   "execution_count": null,
   "metadata": {
    "collapsed": false
   },
   "outputs": [],
   "source": [
    "def radial_gaussian(x, loc, sig):\n",
    "        return T.exp(-(x - loc)**2/(2*sig**2))/(sig*np.sqrt(2*np.pi))\n",
    "\n",
    "with pm.Model() as model:\n",
    "    basis_D = 5\n",
    "    weights = pm.Exponential('weights', 1, shape=(basis_D,))\n",
    "    centers = theano.tensor.arange(-1,1.5,step=0.5, dtype=\"float64\")\n",
    "    bandwidths = pm.Exponential('bandwidths', 1, shape=(basis_D,))\n",
    "    \n",
    "    def intensity(t, weights, centers, bandwidths):\n",
    "        # What to do?\n",
    "        pass\n",
    "\n",
    "    def logp(weights, centers, bandwidths, events):\n",
    "        lam_t = intensity(events, weights, centers, bandwidths)\n",
    "        return -T.sum(weights) + T.sum(T.log(lam_t))\n",
    "    \n",
    "    likelihood = pm.DensityDist('obs', logp, observed=(weights, centers, bandwidths, events))"
   ]
  }
 ],
 "metadata": {
  "kernelspec": {
   "display_name": "Python 2",
   "language": "python",
   "name": "python2"
  },
  "language_info": {
   "codemirror_mode": {
    "name": "ipython",
    "version": 2
   },
   "file_extension": ".py",
   "mimetype": "text/x-python",
   "name": "python",
   "nbconvert_exporter": "python",
   "pygments_lexer": "ipython2",
   "version": "2.7.8"
  }
 },
 "nbformat": 4,
 "nbformat_minor": 0
}
