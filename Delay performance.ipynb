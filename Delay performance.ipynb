{
 "metadata": {
  "name": "",
  "signature": "sha256:45364b4bf3c905a5393d1e0bc35f6dd59fb49588ec7ab112b7db32ff19739686"
 },
 "nbformat": 3,
 "nbformat_minor": 0,
 "worksheets": [
  {
   "cells": [
    {
     "cell_type": "markdown",
     "metadata": {},
     "source": [
      "An interesting aspect of working memory tasks is how long the subjects are able to retain the necessary information. In my task, rats must store and recall the previous goals and outcomes to make a correct response. How long can rats retain this information? The task I used is self-initiated, I didn't impose any defined delay between trials. However, the rats naturally took varying amounts of time to initiate new trials. I can then model how the probability of a correct response drops off with time."
     ]
    },
    {
     "cell_type": "code",
     "collapsed": false,
     "input": [
      "%matplotlib inline\n",
      "%config InlineBackend.figure_format = 'retina'\n",
      "\n",
      "import cPickle as pkl\n",
      "import matplotlib.pyplot as plt\n",
      "import numpy as np\n",
      "import pandas as pd\n",
      "\n",
      "import memory as my \n",
      "from spikesort import catalog"
     ],
     "language": "python",
     "metadata": {},
     "outputs": [],
     "prompt_number": 1
    },
    {
     "cell_type": "code",
     "collapsed": false,
     "input": [
      "database = '//Users/mat/Dropbox/Data/LLRR.sqlite'\n",
      "log = catalog.open(database)\n",
      "sessions = log.query(log.Session).\\\n",
      "           filter(log.Session.rat != 'ALY2B').\\\n",
      "           all()\n",
      "            \n",
      "bhv_files = (my.utils.filepath_from_dir(each.path, 'bhv') for each in sessions)\n",
      "bhv_data = (pkl.load(open(each[0])) for each in bhv_files)\n",
      "dfs = [my.bhv.build_data(each) for each in bhv_data]"
     ],
     "language": "python",
     "metadata": {},
     "outputs": [],
     "prompt_number": 2
    },
    {
     "cell_type": "code",
     "collapsed": false,
     "input": [],
     "language": "python",
     "metadata": {},
     "outputs": []
    }
   ],
   "metadata": {}
  }
 ]
}